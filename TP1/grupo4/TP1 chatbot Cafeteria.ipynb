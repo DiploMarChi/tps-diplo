{
 "cells": [
  {
   "cell_type": "code",
   "execution_count": 10,
   "id": "7427d495-ff70-498c-8110-b2cd85256653",
   "metadata": {},
   "outputs": [
    {
     "name": "stdout",
     "output_type": "stream",
     "text": [
      "\n",
      "Quieres comprar?\n",
      " 1- SI\n",
      " 2- NO\n",
      "\n"
     ]
    },
    {
     "name": "stdin",
     "output_type": "stream",
     "text": [
      "Seleccione una opción:  1\n"
     ]
    },
    {
     "name": "stdout",
     "output_type": "stream",
     "text": [
      "Queres consumir:\n",
      " 1- Aca\n",
      " 2- Para llevar\n",
      "\n"
     ]
    },
    {
     "name": "stdin",
     "output_type": "stream",
     "text": [
      "Seleccione una opción:  1\n"
     ]
    },
    {
     "name": "stdout",
     "output_type": "stream",
     "text": [
      "1 Cafe 1400\n",
      "2 Medialunas 600\n",
      "3 Cafe con 2 medialunas 2000\n",
      "4 Cafe con tostadas 1800\n"
     ]
    },
    {
     "name": "stdin",
     "output_type": "stream",
     "text": [
      "Seleccione una opción:  3\n"
     ]
    },
    {
     "name": "stdout",
     "output_type": "stream",
     "text": [
      "[['Cafe con 2 medialunas', 2000]]\n",
      "\n",
      "Quieres comprar?\n",
      " 1- SI\n",
      " 2- NO\n",
      "\n"
     ]
    },
    {
     "name": "stdin",
     "output_type": "stream",
     "text": [
      "Seleccione una opción:  2\n"
     ]
    },
    {
     "name": "stdout",
     "output_type": "stream",
     "text": [
      "['Cafe con 2 medialunas', 2000]\n",
      "\n",
      "El importe total de su compra para consumo en el local es: 2000\n",
      "\n",
      "\n",
      "['Cafe con 2 medialunas']\n",
      "[0, 0, 1, 0, 0, 0, 0, 0]\n"
     ]
    },
    {
     "data": {
      "image/png": "[encoded data removed]",
      "text/plain": [
       "<Figure size 640x480 with 1 Axes>"
      ]
     },
     "metadata": {},
     "output_type": "display_data"
    },
    {
     "name": "stdout",
     "output_type": "stream",
     "text": [
      "Gracias por tu compra\n"
     ]
    }
   ],
   "source": [
    "import os\n",
    "import numpy as np\n",
    "import matplotlib.pyplot as plt\n",
    "\n",
    "os.system(\"cls\")\n",
    "\n",
    "menu_opciones = {\n",
    "    \"1\": \"Cafe\",\n",
    "    \"2\": \"Medialunas\",\n",
    "    \"3\": \"Cafe con 2 medialunas\",\n",
    "    \"4\": \"Cafe con tostadas\",\n",
    "}\n",
    "\n",
    "menu_precios = {\"1\": 1400, \"2\": 600, \"3\": 2000, \"4\": 1800}\n",
    "\n",
    "menu_opciones_llevar = {\n",
    "    \"1\": \"Docena facturas varias\",\n",
    "    \"2\": \"Medialuna x unidad\",\n",
    "    \"3\": \"Docena medialunas\",\n",
    "    \"4\": \"Media docena clasicas\",\n",
    "}\n",
    "\n",
    "menu_precios_llevar = {\"1\": 1400, \"2\": 600, \"3\": 2000, \"4\": 1800}\n",
    "\n",
    "\n",
    "def menu_principal():\n",
    "    print()\n",
    "    print(\"Quieres comprar?\\n 1- SI\\n 2- NO\\n\")\n",
    "    opc1 = int(input(\"Seleccione una opción: \"))\n",
    "    while True:\n",
    "        if opc1==1 or opc1==2:\n",
    "            break\n",
    "        else:\n",
    "            print(\"La opcion ingresada es incorrecta, ingreso nuevamente\")\n",
    "            opc1 = int(input(\"Seleccione una opción: \"))\n",
    "     \n",
    "    return opc1\n",
    "\n",
    "def consumir():\n",
    "    print(\"Queres consumir:\\n 1- Aca\\n 2- Para llevar\\n\")\n",
    "    opc2 = int(input(\"Seleccione una opción: \"))\n",
    "    while True:\n",
    "        if opc2==1 or opc2==2:\n",
    "            break\n",
    "        else:\n",
    "            print(\"La opcion ingresada es incorrecta, ingreso nuevamente\")\n",
    "            opc2 = int(input(\"Seleccione una opción: \"))\n",
    "            \n",
    "    return opc2\n",
    "\n",
    "def en_el_lugar():\n",
    "    for l in menu_opciones:\n",
    "        print(l, menu_opciones[l], menu_precios[l])\n",
    "    opc3 = int(input(\"Seleccione una opción: \"))\n",
    "    return opc3\n",
    "\n",
    "\n",
    "def para_llevar():\n",
    "    for k in menu_opciones_llevar:\n",
    "        print(k, menu_opciones_llevar[k], menu_precios_llevar[k])\n",
    "    opc4 = int(input(\"Seleccione una opción: \"))\n",
    "    return opc4\n",
    "\n",
    "def grafico(lista):\n",
    "    print(lista)\n",
    "    ejex=[\"1/2doc clas\",\"ML\",\"CaY2ML\",\"Ca/To\", \"12fact vrs\",\"MLx1\",\"12 ML\",\"Cafe\"]\n",
    "    ejey=[0,0,0,0,0,0,0,0]\n",
    "    ejey=[lista.count(\"Cafe\"),lista.count(\"Medialunas\"),lista.count( \"Cafe con 2 medialunas\"),lista.count( \"Cafe con tostadas\"),lista.count(\"Docena facturas varia\"),lista.count(\"Medialuna unidad\"),lista.count(\"Docena medialunas\"),lista.count(\"Media docena clasicas\")]\n",
    "    print(ejey)             \n",
    "    plt.bar(ejex,ejey,color='green')\n",
    "    plt.xlabel('Cantidad')\n",
    "    plt.ylabel('Mercaderia')\n",
    "    plt.title('Venta SAO')\n",
    "    plt.show()\n",
    "\n",
    "\n",
    "def chatbot():\n",
    "    toma_pedido = []\n",
    "    cantidad_pedido=[]\n",
    "    total_compra = 0\n",
    "    toma_pedido_llevar = []\n",
    "    total_compra_llevar = 0\n",
    "    inicio = menu_principal()\n",
    "    while inicio != 2:\n",
    "        local = consumir()\n",
    "        if local == 1:\n",
    "            sitio = en_el_lugar()\n",
    "            cantidad_pedido.append(menu_opciones[str(sitio)])\n",
    "            total_compra = total_compra + menu_precios[str(sitio)]\n",
    "            toma_pedido.append([menu_opciones[str(sitio)], menu_precios[str(sitio)]])\n",
    "            print(toma_pedido)\n",
    "\n",
    "        else:\n",
    "            deliveri = para_llevar()\n",
    "            cantidad_pedido.append(menu_opciones_llevar[str(deliveri)])\n",
    "            total_compra_llevar = total_compra_llevar + menu_precios[str(deliveri)]\n",
    "            toma_pedido_llevar.append([menu_opciones[str(deliveri)], menu_precios[str(deliveri)]])\n",
    "        inicio = menu_principal()\n",
    "\n",
    "    if len(toma_pedido) != 0:\n",
    "        for m in toma_pedido:\n",
    "            print(m)\n",
    "            print()\n",
    "        print(f\"El importe total de su compra para consumo en el local es: {total_compra}\\n\")\n",
    "    if len(toma_pedido_llevar) != 0:\n",
    "        for n in toma_pedido_llevar:\n",
    "            print(n)\n",
    "            print()\n",
    "        print(f\"El importe total de su compra es para llevar es: {total_compra_llevar}\\n\")\n",
    "\n",
    "    print()\n",
    "    grafico(cantidad_pedido)\n",
    "    print(\"Gracias por tu compra\")\n",
    "\n",
    "\n",
    "chatbot()"
   ]
  },
  {
   "cell_type": "code",
   "execution_count": null,
   "id": "1b7c8f52-2963-41e6-b7aa-6f75a77550f9",
   "metadata": {},
   "outputs": [],
   "source": []
  }
 ],
 "metadata": {
  "kernelspec": {
   "display_name": "Python 3 (ipykernel)",
   "language": "python",
   "name": "python3"
  },
  "language_info": {
   "codemirror_mode": {
    "name": "ipython",
    "version": 3
   },
   "file_extension": ".py",
   "mimetype": "text/x-python",
   "name": "python",
   "nbconvert_exporter": "python",
   "pygments_lexer": "ipython3",
   "version": "3.12.5"
  }
 },
 "nbformat": 4,
 "nbformat_minor": 5
}
